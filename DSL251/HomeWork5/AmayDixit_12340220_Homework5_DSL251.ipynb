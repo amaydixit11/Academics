{
  "cells": [
    {
      "cell_type": "markdown",
      "source": [
        "# Question 1\n",
        "Write a Python program to calculate the betweenness centrality of nodes in a given network graph.\n",
        "\n",
        "Implement two versions:\n",
        "- Using NetworkX\n",
        "- Without using NetworkX (Implement betweenness centrality manually using shortest paths)\n",
        "- Compare the results of both implementations.\n",
        "(25 + 25 marks)"
      ],
      "metadata": {
        "id": "qhup2PSIFfjn"
      }
    },
    {
      "cell_type": "code",
      "source": [
        "graph = {\n",
        "    \"Alice\": [\"Bob\", \"Charlie\", \"David\"],\n",
        "    \"Bob\": [\"Alice\", \"David\", \"Eve\", \"Hank\"],\n",
        "    \"Charlie\": [\"Alice\", \"David\", \"Frank\", \"Grace\"],\n",
        "    \"David\": [\"Alice\", \"Bob\", \"Charlie\", \"Eve\", \"Frank\"],\n",
        "    \"Eve\": [\"Bob\", \"David\", \"Frank\", \"Ivy\"],\n",
        "    \"Frank\": [\"Charlie\", \"David\", \"Eve\", \"Grace\", \"Ivy\", \"Jack\"],\n",
        "    \"Grace\": [\"Charlie\", \"Frank\", \"Hank\"],\n",
        "    \"Hank\": [\"Bob\", \"Grace\", \"Ivy\", \"Jack\"],\n",
        "    \"Ivy\": [\"Eve\", \"Frank\", \"Hank\", \"Jack\", \"Kelly\"],\n",
        "    \"Jack\": [\"Frank\", \"Hank\", \"Ivy\", \"Kelly\", \"Leo\"],\n",
        "    \"Kelly\": [\"Ivy\", \"Jack\", \"Leo\"],\n",
        "    \"Leo\": [\"Jack\", \"Kelly\"]\n",
        "}"
      ],
      "metadata": {
        "id": "df5UUa5WGkOV"
      },
      "execution_count": 4,
      "outputs": []
    },
    {
      "cell_type": "code",
      "source": [
        "import networkx as nx\n",
        "from collections import defaultdict\n",
        "from itertools import combinations\n",
        "\n",
        "def networkx_betweenness_centrality(graph):\n",
        "    G = nx.Graph(graph)\n",
        "\n",
        "    return dict(nx.betweenness_centrality(G))"
      ],
      "metadata": {
        "id": "1kC4bqZRxIQd"
      },
      "execution_count": 5,
      "outputs": []
    },
    {
      "cell_type": "code",
      "source": [
        "def manual_betweenness_centrality(graph):\n",
        "    def bfs_shortest_paths(start):\n",
        "        distances = {node: float('inf') for node in graph}\n",
        "        distances[start] = 0\n",
        "        queue = [start]\n",
        "        paths = {node: [] for node in graph}\n",
        "        paths[start] = [[start]]\n",
        "\n",
        "        while queue:\n",
        "            current = queue.pop(0)\n",
        "            for neighbor in graph[current]:\n",
        "                if distances[neighbor] > distances[current] + 1:\n",
        "                    distances[neighbor] = distances[current] + 1\n",
        "                    paths[neighbor] = [path + [neighbor] for path in paths[current]]\n",
        "                    queue.append(neighbor)\n",
        "                elif distances[neighbor] == distances[current] + 1:\n",
        "                    paths[neighbor].extend([path + [neighbor] for path in paths[current]])\n",
        "\n",
        "        return paths\n",
        "\n",
        "    betweenness = {node: 0 for node in graph}\n",
        "\n",
        "    for start in graph:\n",
        "        all_paths = bfs_shortest_paths(start)\n",
        "\n",
        "        for end in graph:\n",
        "            if start == end:\n",
        "                continue\n",
        "\n",
        "            paths_between = all_paths[end]\n",
        "\n",
        "            for path in paths_between:\n",
        "                for intermediate in path[1:-1]:\n",
        "                    betweenness[intermediate] += 1 / len(paths_between)\n",
        "\n",
        "    total_pairs = len(graph) * (len(graph) - 1) / 2\n",
        "    return {node: score / total_pairs for node, score in betweenness.items()}"
      ],
      "metadata": {
        "id": "T4AftUStGdQO"
      },
      "execution_count": 6,
      "outputs": []
    },
    {
      "cell_type": "code",
      "source": [
        "networkx_result = networkx_betweenness_centrality(graph)\n",
        "print(\"NetworkX Betweenness Centrality:\")\n",
        "for node, centrality in sorted(networkx_result.items(), key=lambda x: x[1], reverse=True):\n",
        "    print(f\"{node}: {centrality:.4f}\")\n",
        "\n",
        "print(\"\\n\" + \"=\"*50 + \"\\n\")\n",
        "\n",
        "manual_result = manual_betweenness_centrality(graph)\n",
        "print(\"Manual Betweenness Centrality:\")\n",
        "for node, centrality in sorted(manual_result.items(), key=lambda x: x[1], reverse=True):\n",
        "    print(f\"{node}: {centrality:.4f}\")\n",
        "\n",
        "print(\"\\n\" + \"=\"*50 + \"\\n\")\n",
        "\n",
        "print(\"Difference between NetworkX and Manual Implementation:\")\n",
        "for node in graph:\n",
        "    diff = abs(networkx_result[node] - manual_result[node])\n",
        "    print(f\"{node}: {diff:.4f}\")"
      ],
      "metadata": {
        "colab": {
          "base_uri": "https://localhost:8080/"
        },
        "id": "_2Y1F1B7GKDR",
        "outputId": "dfd11b5f-c88a-4de7-ad30-1468d93f7ce8"
      },
      "execution_count": 7,
      "outputs": [
        {
          "output_type": "stream",
          "name": "stdout",
          "text": [
            "NetworkX Betweenness Centrality:\n",
            "Frank: 0.2588\n",
            "Jack: 0.2098\n",
            "Hank: 0.1324\n",
            "Ivy: 0.1265\n",
            "Bob: 0.0808\n",
            "David: 0.0717\n",
            "Charlie: 0.0567\n",
            "Eve: 0.0512\n",
            "Grace: 0.0242\n",
            "Kelly: 0.0152\n",
            "Alice: 0.0091\n",
            "Leo: 0.0000\n",
            "\n",
            "==================================================\n",
            "\n",
            "Manual Betweenness Centrality:\n",
            "Frank: 0.4313\n",
            "Jack: 0.3497\n",
            "Hank: 0.2207\n",
            "Ivy: 0.2109\n",
            "Bob: 0.1346\n",
            "David: 0.1194\n",
            "Charlie: 0.0944\n",
            "Eve: 0.0854\n",
            "Grace: 0.0404\n",
            "Kelly: 0.0253\n",
            "Alice: 0.0152\n",
            "Leo: 0.0000\n",
            "\n",
            "==================================================\n",
            "\n",
            "Difference between NetworkX and Manual Implementation:\n",
            "Alice: 0.0061\n",
            "Bob: 0.0538\n",
            "Charlie: 0.0378\n",
            "David: 0.0478\n",
            "Eve: 0.0341\n",
            "Frank: 0.1725\n",
            "Grace: 0.0162\n",
            "Hank: 0.0883\n",
            "Ivy: 0.0843\n",
            "Jack: 0.1399\n",
            "Kelly: 0.0101\n",
            "Leo: 0.0000\n"
          ]
        }
      ]
    },
    {
      "cell_type": "markdown",
      "source": [
        "# Question 2\n",
        "Write a Python program to apply the Girvan-Newman Algorithm to detect communities in a given network graph.\n",
        "\n",
        "Implement two versions:\n",
        "- Using NetworkX\n",
        "- Without using NetworkX (Manually remove edges with the highest betweenness and detect communities)\n",
        "- Compare the results of both implementations.\n",
        "(25 + 25 marks)"
      ],
      "metadata": {
        "id": "v1GyOcC8Fl-A"
      }
    },
    {
      "cell_type": "code",
      "source": [
        "import networkx as nx\n",
        "import copy\n",
        "\n",
        "def networkx_girvan_newman(graph):\n",
        "    G = nx.Graph()\n",
        "    for node, neighbors in graph.items():\n",
        "        for neighbor in neighbors:\n",
        "            G.add_edge(node, neighbor)\n",
        "\n",
        "    communities_generator = nx.community.girvan_newman(G)\n",
        "    top_level_communities = next(communities_generator)\n",
        "\n",
        "    return [list(community) for community in top_level_communities]"
      ],
      "metadata": {
        "id": "WBijpb7gdRks"
      },
      "execution_count": 8,
      "outputs": []
    },
    {
      "cell_type": "code",
      "source": [
        "def calculate_edge_betweenness(graph):\n",
        "    nodes = list(graph.keys())\n",
        "    edge_betweenness = {}\n",
        "\n",
        "    for start in nodes:\n",
        "        distances = {node: float('inf') for node in nodes}\n",
        "        distances[start] = 0\n",
        "        predecessors = {node: [] for node in nodes}\n",
        "        path_counts = {node: 0 for node in nodes}\n",
        "        path_counts[start] = 1\n",
        "\n",
        "        queue = [start]\n",
        "        while queue:\n",
        "            current = queue.pop(0)\n",
        "            for neighbor in graph[current]:\n",
        "                if distances[neighbor] > distances[current] + 1:\n",
        "                    distances[neighbor] = distances[current] + 1\n",
        "                    predecessors[neighbor] = [current]\n",
        "                    path_counts[neighbor] = path_counts[current]\n",
        "                    queue.append(neighbor)\n",
        "                elif distances[neighbor] == distances[current] + 1:\n",
        "                    predecessors[neighbor].append(current)\n",
        "                    path_counts[neighbor] += path_counts[current]\n",
        "\n",
        "        node_credits = {node: 1 for node in nodes}\n",
        "        for node in sorted(nodes, key=lambda x: distances[x], reverse=True):\n",
        "            for pred in predecessors[node]:\n",
        "                edge = tuple(sorted((node, pred)))\n",
        "                edge_betweenness[edge] = edge_betweenness.get(edge, 0) + node_credits[node]\n",
        "                node_credits[pred] += node_credits[node]\n",
        "\n",
        "    return edge_betweenness\n",
        "\n",
        "def manual_girvan_newman(graph):\n",
        "    def find_communities(current_graph):\n",
        "        visited = set()\n",
        "        communities = []\n",
        "\n",
        "        def dfs(node, community):\n",
        "            visited.add(node)\n",
        "            community.append(node)\n",
        "            for neighbor in current_graph.get(node, []):\n",
        "                if neighbor not in visited:\n",
        "                    dfs(neighbor, community)\n",
        "\n",
        "        for node in current_graph:\n",
        "            if node not in visited:\n",
        "                community = []\n",
        "                dfs(node, community)\n",
        "                communities.append(community)\n",
        "\n",
        "        return communities\n",
        "\n",
        "    working_graph = copy.deepcopy(graph)\n",
        "\n",
        "    communities = find_communities(working_graph)\n",
        "\n",
        "    while len(communities) == 1:\n",
        "        edge_betweenness = calculate_edge_betweenness(working_graph)\n",
        "\n",
        "        max_betweenness_edge = max(edge_betweenness, key=edge_betweenness.get)\n",
        "        node1, node2 = max_betweenness_edge\n",
        "\n",
        "        working_graph[node1] = [n for n in working_graph[node1] if n != node2]\n",
        "        working_graph[node2] = [n for n in working_graph[node2] if n != node1]\n",
        "\n",
        "        communities = find_communities(working_graph)\n",
        "\n",
        "    return communities"
      ],
      "metadata": {
        "id": "lK6TCc7tG-2o"
      },
      "execution_count": 9,
      "outputs": []
    },
    {
      "cell_type": "code",
      "source": [
        "print(\"NetworkX Girvan-Newman Communities:\")\n",
        "networkx_communities = networkx_girvan_newman(graph)\n",
        "for i, community in enumerate(networkx_communities, 1):\n",
        "    print(f\"Community {i}: {community}\")\n",
        "\n",
        "print(\"\\nManual Girvan-Newman Communities:\")\n",
        "manual_communities = manual_girvan_newman(graph)\n",
        "for i, community in enumerate(manual_communities, 1):\n",
        "    print(f\"Community {i}: {community}\")"
      ],
      "metadata": {
        "id": "VL71e-bjeNer",
        "colab": {
          "base_uri": "https://localhost:8080/"
        },
        "outputId": "8c978820-a894-4f0f-a507-7e3377ea3acc"
      },
      "execution_count": 10,
      "outputs": [
        {
          "output_type": "stream",
          "name": "stdout",
          "text": [
            "NetworkX Girvan-Newman Communities:\n",
            "Community 1: ['Charlie', 'David', 'Grace', 'Eve', 'Alice', 'Frank', 'Bob']\n",
            "Community 2: ['Leo', 'Kelly', 'Ivy', 'Hank', 'Jack']\n",
            "\n",
            "Manual Girvan-Newman Communities:\n",
            "Community 1: ['Alice', 'Bob', 'David', 'Charlie', 'Frank', 'Eve', 'Grace', 'Hank']\n",
            "Community 2: ['Ivy', 'Jack', 'Kelly', 'Leo']\n"
          ]
        }
      ]
    },
    {
      "cell_type": "code",
      "source": [],
      "metadata": {
        "id": "j5dab-S-HICU"
      },
      "execution_count": 10,
      "outputs": []
    }
  ],
  "metadata": {
    "colab": {
      "provenance": []
    },
    "kernelspec": {
      "display_name": "Python 3",
      "name": "python3"
    },
    "language_info": {
      "name": "python"
    }
  },
  "nbformat": 4,
  "nbformat_minor": 0
}
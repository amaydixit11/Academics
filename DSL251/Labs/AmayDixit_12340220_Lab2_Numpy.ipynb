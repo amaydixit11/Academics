{
  "nbformat": 4,
  "nbformat_minor": 0,
  "metadata": {
    "colab": {
      "provenance": []
    },
    "kernelspec": {
      "name": "python3",
      "display_name": "Python 3"
    },
    "language_info": {
      "name": "python"
    }
  },
  "cells": [
    {
      "cell_type": "markdown",
      "source": [
        "\n",
        "**Create a 5x5 array filled with random integers from 0 to 10.**\n",
        "1. Create a 1D array of shape (5,) that will be added to each row of the 5x5 array using broadcasting.\n",
        "2. Multiply each column of the 5x5 array by a 1D array of shape (5,) using broadcasting.\n",
        "3. Display the final result."
      ],
      "metadata": {
        "id": "7oEzDNttMcdO"
      }
    },
    {
      "cell_type": "code",
      "source": [
        "import numpy as np\n",
        "\n",
        "arr = np.random.randint(0, 11, size=(5, 5))\n",
        "add = np.random.randint(0, 11, size=(5,))\n",
        "add_res = arr + add\n",
        "col_mult = np.random.randint(0, 11, size=(5,))\n",
        "final_result = add_res * col_mult[:, np.newaxis]\n",
        "\n",
        "print(\"\\nFinal Result:\")\n",
        "print(final_result)\n"
      ],
      "metadata": {
        "id": "4q06HgKYFu1c",
        "colab": {
          "base_uri": "https://localhost:8080/"
        },
        "outputId": "76b19e0e-d097-4083-9405-464d868bef2d"
      },
      "execution_count": null,
      "outputs": [
        {
          "output_type": "stream",
          "name": "stdout",
          "text": [
            "\n",
            "Final Result:\n",
            "[[ 90 117 108  90 117]\n",
            " [ 10  25  45  40  45]\n",
            " [ 27 108  81  63 126]\n",
            " [ 72  48  72  24  72]\n",
            " [  6  12  30  28  28]]\n"
          ]
        }
      ]
    },
    {
      "cell_type": "markdown",
      "source": [
        "**Array Manipulation**\n",
        "1. Create a 1D array with values from 1 to 20.\n",
        "2. Reshape the array into a 4x5 matrix.\n",
        "3. Flatten the reshaped matrix back into a 1D array.\n",
        "4. ind the mean, standard deviation, and sum of the reshaped matrix."
      ],
      "metadata": {
        "id": "0f6SlL_wM3gi"
      }
    },
    {
      "cell_type": "code",
      "source": [
        "import numpy as np\n",
        "\n",
        "arr = np.random.randint(1, 21, size=(20,))\n",
        "newarr = arr.reshape(4, 5)\n",
        "print(newarr)\n",
        "flat_arr = newarr.flatten()\n",
        "print(flat_arr)\n",
        "print(np.mean(newarr))\n",
        "print(np.std(newarr))\n",
        "print(np.sum(newarr))"
      ],
      "metadata": {
        "id": "XsyxXVneNAFs",
        "colab": {
          "base_uri": "https://localhost:8080/"
        },
        "outputId": "66a56cc0-8a33-4bce-c7cd-042270401f7b"
      },
      "execution_count": null,
      "outputs": [
        {
          "output_type": "stream",
          "name": "stdout",
          "text": [
            "[[ 3 18 16 13  4]\n",
            " [ 9 15  8 20 17]\n",
            " [13 13 13 10 15]\n",
            " [ 1  7 12  5  5]]\n",
            "[ 3 18 16 13  4  9 15  8 20 17 13 13 13 10 15  1  7 12  5  5]\n",
            "10.85\n",
            "5.265690837867335\n",
            "217\n"
          ]
        }
      ]
    },
    {
      "cell_type": "code",
      "source": [],
      "metadata": {
        "id": "XXg_LUA_S5W9"
      },
      "execution_count": null,
      "outputs": []
    }
  ]
}
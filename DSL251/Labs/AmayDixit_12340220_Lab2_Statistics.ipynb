{
  "nbformat": 4,
  "nbformat_minor": 0,
  "metadata": {
    "colab": {
      "provenance": []
    },
    "kernelspec": {
      "name": "python3",
      "display_name": "Python 3"
    },
    "language_info": {
      "name": "python"
    }
  },
  "cells": [
    {
      "cell_type": "code",
      "source": [
        "import statistics as stats\n",
        "import random"
      ],
      "metadata": {
        "id": "EajnAlhSQOz7"
      },
      "execution_count": null,
      "outputs": []
    },
    {
      "cell_type": "markdown",
      "source": [
        "# 1. Calculate the *mean, median, mode, standard deviation, and variance* for the dataset:\n",
        "### [5.0, 10.0, 15.0, 20.0, 25.0, 30.0, 35.0]"
      ],
      "metadata": {
        "id": "ZYeHed0QT1Cm"
      }
    },
    {
      "cell_type": "code",
      "source": [
        "data = [5.0, 10.0, 15.0, 20.0, 25.0, 30.0, 35.0]\n",
        "\n",
        "mean = stats.mean(data)\n",
        "median = stats.median(data)\n",
        "mode = stats.mode(data)\n",
        "stdev = stats.stdev(data)\n",
        "variance = stats.variance(data)\n",
        "\n",
        "print(\"Mean: \", mean)\n",
        "print(\"Median: \", median)\n",
        "print(\"Mode: \", mode)\n",
        "print(\"Standard Deviation: \", stdev)\n",
        "print(\"Variance: \", variance)"
      ],
      "metadata": {
        "id": "LCFjWEh-Vzxg",
        "colab": {
          "base_uri": "https://localhost:8080/"
        },
        "outputId": "f2738c70-0d64-4f59-de52-bd421339fb47"
      },
      "execution_count": null,
      "outputs": [
        {
          "output_type": "stream",
          "name": "stdout",
          "text": [
            "Mean:  20.0\n",
            "Median:  20.0\n",
            "Mode:  5.0\n",
            "Standard Deviation:  10.801234497346433\n",
            "Variance:  116.66666666666667\n"
          ]
        }
      ]
    },
    {
      "cell_type": "markdown",
      "source": [
        "# 2. Generate a random data set of size 100 with values between 1 and 50. Calculate all the statistical measures discussed above.\n"
      ],
      "metadata": {
        "id": "0s4x2NhrV1_z"
      }
    },
    {
      "cell_type": "code",
      "source": [
        "data = [random.randint(1, 51) for _ in range(100)]\n",
        "\n",
        "mean = stats.mean(data)\n",
        "median = stats.median(data)\n",
        "mode = stats.mode(data)\n",
        "stdev = stats.stdev(data)\n",
        "variance = stats.variance(data)\n",
        "\n",
        "print(\"Mean: \", mean)\n",
        "print(\"Median: \", median)\n",
        "print(\"Mode: \", mode)\n",
        "print(\"Standard Deviation: \", stdev)\n",
        "print(\"Variance: \", variance)"
      ],
      "metadata": {
        "id": "m9DFKWWoV41-",
        "colab": {
          "base_uri": "https://localhost:8080/"
        },
        "outputId": "e567f500-a645-458b-bb21-4b344a559572"
      },
      "execution_count": null,
      "outputs": [
        {
          "output_type": "stream",
          "name": "stdout",
          "text": [
            "Mean:  23.95\n",
            "Median:  25.0\n",
            "Mode:  2\n",
            "Standard Deviation:  15.274177720928385\n",
            "Variance:  233.30050505050505\n"
          ]
        }
      ]
    },
    {
      "cell_type": "code",
      "source": [],
      "metadata": {
        "id": "QYOLaV0yQCR-"
      },
      "execution_count": null,
      "outputs": []
    }
  ]
}
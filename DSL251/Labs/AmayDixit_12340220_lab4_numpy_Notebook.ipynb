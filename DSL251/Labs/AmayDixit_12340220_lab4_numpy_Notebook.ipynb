{
  "nbformat": 4,
  "nbformat_minor": 0,
  "metadata": {
    "colab": {
      "provenance": []
    },
    "kernelspec": {
      "name": "python3",
      "display_name": "Python 3"
    },
    "language_info": {
      "name": "python"
    }
  },
  "cells": [
    {
      "cell_type": "markdown",
      "source": [
        "**Date: 13-01-2025**\n",
        "\n",
        "**NumPy - Indexing & Slicing**"
      ],
      "metadata": {
        "id": "oj8R3y1WTZrI"
      }
    },
    {
      "cell_type": "markdown",
      "source": [
        "**Class Assignment: Create a NumPy array of 20 elements (from 1 to 20). Using slicing, extract:**\n",
        "\n",
        "1. The first 5 elements.\n",
        "2. The elements from index 5 to 15.\n",
        "3. The last 3 elements"
      ],
      "metadata": {
        "id": "pgtkRLrmilYp"
      }
    },
    {
      "cell_type": "code",
      "source": [
        "import numpy as np\n",
        "\n",
        "array = np.arange(1, 21)\n",
        "part1 = array[:5]\n",
        "part2 = array[5:16]\n",
        "part3 = array[-3:]\n",
        "\n",
        "print(\"Array:\", array)\n",
        "print(\"First 5 elements:\", part1)\n",
        "print(\"Elements from index 5 to 15:\", part2)\n",
        "print(\"Last 3 elements:\", part3)"
      ],
      "metadata": {
        "id": "s4tdcxAHjcDi",
        "colab": {
          "base_uri": "https://localhost:8080/"
        },
        "outputId": "54ba1b97-ccec-446f-b472-219ca95edba7"
      },
      "execution_count": 7,
      "outputs": [
        {
          "output_type": "stream",
          "name": "stdout",
          "text": [
            "Array: [ 1  2  3  4  5  6  7  8  9 10 11 12 13 14 15 16 17 18 19 20]\n",
            "First 5 elements: [1 2 3 4 5]\n",
            "Elements from index 5 to 15: [ 6  7  8  9 10 11 12 13 14 15 16]\n",
            "Last 3 elements: [18 19 20]\n"
          ]
        }
      ]
    },
    {
      "cell_type": "markdown",
      "source": [
        "**Sorting Arrays in NumPy**"
      ],
      "metadata": {
        "id": "Krq3tL7jb1lz"
      }
    },
    {
      "cell_type": "markdown",
      "source": [
        "**Class Assignment:** Create a NumPy array of 10 random integers. Use np.argsort() to get the indices that would sort the array in ascending order, then print the sorted array using these indices."
      ],
      "metadata": {
        "id": "BqbiuU1CjRv-"
      }
    },
    {
      "cell_type": "code",
      "source": [
        "import numpy as np\n",
        "random_array = np.random.randint(1, 101, size=10)\n",
        "sorted_indices = np.argsort(random_array)\n",
        "sorted_array = random_array[sorted_indices]\n",
        "\n",
        "print(\"Original Array:\", random_array)\n",
        "print(\"Sorted Indices:\", sorted_indices)\n",
        "print(\"Sorted Array:\", sorted_array)\n"
      ],
      "metadata": {
        "id": "YKKn0rpajYN3",
        "colab": {
          "base_uri": "https://localhost:8080/"
        },
        "outputId": "50db5b02-2a73-4d88-c40a-6fcce91e6de2"
      },
      "execution_count": 8,
      "outputs": [
        {
          "output_type": "stream",
          "name": "stdout",
          "text": [
            "Original Array: [67 32  4 69 88 30 79 80 28 74]\n",
            "Sorted Indices: [2 8 5 1 0 3 9 6 7 4]\n",
            "Sorted Array: [ 4 28 30 32 67 69 74 79 80 88]\n"
          ]
        }
      ]
    },
    {
      "cell_type": "markdown",
      "source": [
        "**Handling Missing Data in Arrays**"
      ],
      "metadata": {
        "id": "QMIxy8BChkHI"
      }
    },
    {
      "cell_type": "markdown",
      "source": [
        "**Class Assignment**: Create a 1D NumPy array of 10 integers and randomly replace 2 elements with np.nan. Replace all NaN values in the array with the number 0."
      ],
      "metadata": {
        "id": "XaGHMOEHkdyj"
      }
    },
    {
      "cell_type": "code",
      "source": [
        "import numpy as np\n",
        "\n",
        "array = np.random.randint(1, 101, size=10)\n",
        "\n",
        "nan_indices = np.random.choice(array.size, size=2, replace=False)\n",
        "array = array.astype(float)\n",
        "array[nan_indices] = np.nan\n",
        "\n",
        "array[np.isnan(array)] = 0\n",
        "\n",
        "print(\"Original Array with NaNs:\", array)\n",
        "print(\"Array after replacing NaNs with 0:\", array)\n"
      ],
      "metadata": {
        "id": "LRzC5edbgj1q",
        "colab": {
          "base_uri": "https://localhost:8080/"
        },
        "outputId": "6c74b3c9-8fa6-4e8a-edb1-6568b0427d05"
      },
      "execution_count": 9,
      "outputs": [
        {
          "output_type": "stream",
          "name": "stdout",
          "text": [
            "Original Array with NaNs: [ 0. 68. 19. 56.  0. 71. 13. 39. 51. 77.]\n",
            "Array after replacing NaNs with 0: [ 0. 68. 19. 56.  0. 71. 13. 39. 51. 77.]\n"
          ]
        }
      ]
    },
    {
      "cell_type": "code",
      "source": [],
      "metadata": {
        "id": "8s_6EWqrXnf3"
      },
      "execution_count": 9,
      "outputs": []
    }
  ]
}